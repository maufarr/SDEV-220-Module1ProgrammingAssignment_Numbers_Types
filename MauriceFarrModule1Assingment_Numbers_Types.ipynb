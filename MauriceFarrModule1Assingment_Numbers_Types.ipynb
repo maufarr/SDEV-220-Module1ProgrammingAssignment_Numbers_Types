{
 "cells": [
  {
   "cell_type": "code",
   "execution_count": 67,
   "id": "52bf49e2-d6a8-4493-8407-706bff7b9f31",
   "metadata": {},
   "outputs": [
    {
     "name": "stdout",
     "output_type": "stream",
     "text": [
      "3600\n"
     ]
    }
   ],
   "source": [
    "#Question 1: Calculate the number of seconds in a hour\n",
    "number_seconds_per_minute = 60\n",
    "number_minutes_per_hour = 60\n",
    "number_seconds_in_a_hour = number_seconds_per_minute * number_minutes_per_hour\n",
    "number_seconds_in_a_hour = 60 * 60\n",
    "print(number_seconds_in_a_hour)"
   ]
  },
  {
   "cell_type": "code",
   "execution_count": 73,
   "id": "d616d228-6801-4c72-92ca-265b6d68f0d5",
   "metadata": {},
   "outputs": [
    {
     "name": "stdout",
     "output_type": "stream",
     "text": [
      "3600\n"
     ]
    }
   ],
   "source": [
    "#Question 2: Assign the result from Question 1 to a variable called seconds_per_hour\n",
    "number_seconds_in_a_hour = 3600\n",
    "seconds_per_hour = number_seconds_in_a_hour\n",
    "print(seconds_per_hour)"
   ]
  },
  {
   "cell_type": "code",
   "execution_count": 75,
   "id": "5804dd54-11a2-4b15-9539-cfe35955d4f4",
   "metadata": {},
   "outputs": [
    {
     "name": "stdout",
     "output_type": "stream",
     "text": [
      "86400\n"
     ]
    }
   ],
   "source": [
    "#Question 3: Calculate the number of seconds in a day\n",
    "seconds_per_hour = 3600\n",
    "hours_per_day = 24\n",
    "seconds_in_a_day = seconds_per_hour * hours_per_day\n",
    "print(seconds_in_a_day)"
   ]
  },
  {
   "cell_type": "code",
   "execution_count": 77,
   "id": "d7d5b0e0-57ea-49ac-98d8-688879d3d445",
   "metadata": {},
   "outputs": [
    {
     "name": "stdout",
     "output_type": "stream",
     "text": [
      "86400\n"
     ]
    }
   ],
   "source": [
    "#Question 4: Calcualte the number of seconds in a day again, except save the result as seconds_per_day\n",
    "seconds_per_hour = 3600\n",
    "hours_per_day = 24\n",
    "seconds_per_day = seconds_per_hour * hours_per_day\n",
    "print(seconds_per_day)"
   ]
  },
  {
   "cell_type": "code",
   "execution_count": 79,
   "id": "36e4c286-faa3-4723-b4bb-20f7a0d2bce0",
   "metadata": {},
   "outputs": [
    {
     "name": "stdout",
     "output_type": "stream",
     "text": [
      "24.0\n"
     ]
    }
   ],
   "source": [
    "#Question 5: Divide seconds_per_day by seconds_per_hour, using floating-point divsion\n",
    "seconds_per_day = 86400\n",
    "seconds_per_hour = 3600\n",
    "answer = seconds_per_day/seconds_per_hour\n",
    "print(answer)"
   ]
  },
  {
   "cell_type": "code",
   "execution_count": 81,
   "id": "8794b32d-cf4f-4418-ad69-0c1aac9da8fc",
   "metadata": {},
   "outputs": [
    {
     "name": "stdout",
     "output_type": "stream",
     "text": [
      "24\n"
     ]
    }
   ],
   "source": [
    "#Question 6, Part 1: Divide seconds_per_day by seconds_per_hour, using integer divison\n",
    "seconds_per_day = 86400\n",
    "seconds_per_hour = 3600\n",
    "answer = seconds_per_day//seconds_per_hour\n",
    "print(answer)"
   ]
  },
  {
   "cell_type": "code",
   "execution_count": 85,
   "id": "28f7c223-18b8-4b9a-a2c6-3990d9242767",
   "metadata": {},
   "outputs": [
    {
     "data": {
      "text/plain": [
       "'\\nThe response to this question shows that the integer result matches the floating point value of 24.0 from the previous \\nquestion, as the calculations are identical except for the final .0.\\n'"
      ]
     },
     "execution_count": 85,
     "metadata": {},
     "output_type": "execute_result"
    }
   ],
   "source": [
    "#Question 6, Part 2: Answering the second part to Question 6\n",
    "\"\"\"\n",
    "The response to this question shows that the integer result matches the floating point value of 24.0 from the previous \n",
    "question, as the calculations are identical except for the final .0.\n",
    "\"\"\""
   ]
  }
 ],
 "metadata": {
  "kernelspec": {
   "display_name": "Python [conda env:base] *",
   "language": "python",
   "name": "conda-base-py"
  },
  "language_info": {
   "codemirror_mode": {
    "name": "ipython",
    "version": 3
   },
   "file_extension": ".py",
   "mimetype": "text/x-python",
   "name": "python",
   "nbconvert_exporter": "python",
   "pygments_lexer": "ipython3",
   "version": "3.12.7"
  }
 },
 "nbformat": 4,
 "nbformat_minor": 5
}
