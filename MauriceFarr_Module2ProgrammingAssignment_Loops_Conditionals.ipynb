{
 "cells": [
  {
   "cell_type": "code",
   "execution_count": 3,
   "id": "4a64597b-a17b-4aa5-99a2-f6a7b5f83c0b",
   "metadata": {},
   "outputs": [
    {
     "name": "stdout",
     "output_type": "stream",
     "text": [
      "too high\n"
     ]
    }
   ],
   "source": [
    "#Question 4.1 \n",
    "\n",
    "\"\"\"\n",
    "purpose: We need to pick a number from 1 to 10 and store it in the variable secret. Then, we will pick another number from \n",
    "the same range and save it in the variable guess. After that, we should create conditional statements (if, else, and elif) to \n",
    "display 'too low\" if guess is less than secret, 'too high' if it is more, and 'just right, if it matches the sceret.\n",
    "\"\"\"\n",
    "\n",
    "#Assign a number between 1 and 10 to variables, guess and secret\n",
    "secret_number = 5\n",
    "guess_number = 8\n",
    "\n",
    "#Provide conditional tests such  as if, else, and elif\n",
    "if guess_number < secret_number:\n",
    "    print ('too low')\n",
    "elif guess_number >secret_number: \n",
    "    print ('too high')\n",
    "else:\n",
    "    print ('just right')\n"
   ]
  },
  {
   "cell_type": "code",
   "execution_count": 5,
   "id": "88150311-3cd9-4535-b4b6-f7ad89ca2838",
   "metadata": {},
   "outputs": [
    {
     "name": "stdout",
     "output_type": "stream",
     "text": [
      "pea\n"
     ]
    }
   ],
   "source": [
    "#Question 4.2 \n",
    "\n",
    "\"\"\"\n",
    "purpose: We need to set the variables small and green to either True or False. Then, create some if/else statements to \n",
    "display which of the following matches those choices: cherry, pea, watermelon, and pumpkin.\n",
    "\"\"\"\n",
    "\n",
    "#Assign True or False to the variables, small and green\n",
    "small = True \n",
    "green = False\n",
    "\n",
    "#Utilize if/else statements to determine if the item matches\n",
    "if small and green: \n",
    "    print (\"cherry\")\n",
    "elif small and not green:\n",
    "    print (\"pea\")\n",
    "elif not small and not green:\n",
    "    print (\"watermelon\")\n",
    "else:\n",
    "    print (\"pumpkin\")"
   ]
  },
  {
   "cell_type": "code",
   "execution_count": 9,
   "id": "013cb4b1-7424-4cba-89af-c16a7d519468",
   "metadata": {},
   "outputs": [
    {
     "data": {
      "text/plain": [
       "3"
      ]
     },
     "metadata": {},
     "output_type": "display_data"
    },
    {
     "data": {
      "text/plain": [
       "2"
      ]
     },
     "metadata": {},
     "output_type": "display_data"
    },
    {
     "data": {
      "text/plain": [
       "1"
      ]
     },
     "metadata": {},
     "output_type": "display_data"
    },
    {
     "data": {
      "text/plain": [
       "0"
      ]
     },
     "metadata": {},
     "output_type": "display_data"
    }
   ],
   "source": [
    "#Question 6.1 \n",
    "\n",
    "\"\"\"\n",
    "purpose: We need to utilize a loop to display the values of the list [3,2,1,0].\n",
    "\"\"\"\n",
    "\n",
    "#Provide a list of values\n",
    "values = [3, 2, 1, 0]\n",
    "\n",
    "#Use a loop to display the list of the values\n",
    "for value in values:\n",
    "    display (value)\n"
   ]
  },
  {
   "cell_type": "code",
   "execution_count": 15,
   "id": "cd437af1-42ef-4963-be91-2ce2a3ce19c5",
   "metadata": {},
   "outputs": [
    {
     "name": "stdout",
     "output_type": "stream",
     "text": [
      "too low\n",
      "too low\n",
      "too low\n",
      "too low\n",
      "too low\n",
      "too low\n",
      "found it!\n"
     ]
    }
   ],
   "source": [
    "#Question 6.2\n",
    "\n",
    "\"\"\"\n",
    "purpose: We need to assign the variable guess_me to 7 and the variable number to 1. We must create a while loop to compare \n",
    "number with guess_me. If number is less than guess_me, print 'too_low'. If number matches guess_me, print 'found it!' and break\n",
    "the loop. If number exceeds guess_me, print 'oops' and also break the loop. At the end of each loop iteration, increment the \n",
    "value of number.\n",
    "\"\"\"\n",
    "\n",
    "#Provide the assign values to the variables, guess_me and number\n",
    "guess_me = 7\n",
    "number  = 1\n",
    "\n",
    "#Create a \"while\" loop to compare number and guess_me\n",
    "while True:\n",
    "    if number < guess_me: #if the number is less than the guess_me\n",
    "        print ('too low')\n",
    "    elif number == guess_me: #if the number equals to guess_me\n",
    "        print ('found it!')\n",
    "        break #indication that we will exit from the loop as the number matches guess_me\n",
    "    else: #if the number is greater than guess_me\n",
    "        print ('oops')\n",
    "        break #indication that we will exit from the loop as the number exceeds guess_me\n",
    "\n",
    "    #Indication that we will increment the value of number at the end of each loop iteration\n",
    "    number += 1\n",
    "        "
   ]
  },
  {
   "cell_type": "code",
   "execution_count": 23,
   "id": "e3614b42-231c-4c7e-ac1a-a4e25498954e",
   "metadata": {},
   "outputs": [
    {
     "name": "stdout",
     "output_type": "stream",
     "text": [
      "too low\n",
      "too low\n",
      "too low\n",
      "too low\n",
      "too low\n",
      "found it!\n"
     ]
    }
   ],
   "source": [
    "#Question 6.3\n",
    "\n",
    "\"\"\"\n",
    "purpose: We need to assign the variable guess_me to 5. Then, we need to use a for loop to go through a variable named number\n",
    "in the range of 10. If number is less than guess_me, display \"'too low'. If it matches guess_me, show 'found it!' and break the\n",
    "loop. If exceeds guess_me, print 'oops' and exit the loop.\n",
    "\"\"\"\n",
    "\n",
    "#Assign the variable guess_me to 5\n",
    "guess_me = 5\n",
    "\n",
    "#Utilize a \"for\" loop to iterate a variable called number over range (10)\n",
    "for number in range(10):\n",
    "    if number < guess_me: #if the number is less than guess_me\n",
    "        print ('too low')\n",
    "    elif number == guess_me: #if the number equals to guess_me\n",
    "        print ('found it!')\n",
    "        break #indication that we will exit from the loop as the number matches to guess_me\n",
    "    else: #if the number is greater than guess_me\n",
    "        print ('oops')\n",
    "        break #indication that we will exit from the loop again as the number exceeds the guess_me value\n",
    "\n",
    "\n"
   ]
  },
  {
   "cell_type": "code",
   "execution_count": null,
   "id": "13d9330b-205c-40f7-be51-f37df14987e7",
   "metadata": {},
   "outputs": [],
   "source": []
  }
 ],
 "metadata": {
  "kernelspec": {
   "display_name": "Python [conda env:base] *",
   "language": "python",
   "name": "conda-base-py"
  },
  "language_info": {
   "codemirror_mode": {
    "name": "ipython",
    "version": 3
   },
   "file_extension": ".py",
   "mimetype": "text/x-python",
   "name": "python",
   "nbconvert_exporter": "python",
   "pygments_lexer": "ipython3",
   "version": "3.12.7"
  }
 },
 "nbformat": 4,
 "nbformat_minor": 5
}
